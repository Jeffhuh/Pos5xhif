{
 "cells": [
  {
   "cell_type": "code",
   "execution_count": null,
   "metadata": {},
   "outputs": [],
   "source": [
    "import io\n",
    "import requests\n",
    "import datetime as dt\n",
    "import pandas as pd\n",
    "import numpy as np\n",
    "import matplotlib.pyplot as plt\n",
    "import matplotlib.dates as mdates\n",
    "from statsmodels.tsa.seasonal import STL"
   ]
  },
  {
   "cell_type": "code",
   "execution_count": null,
   "metadata": {},
   "outputs": [],
   "source": [
    "def plot_param(params, title, data):\n",
    "    params = params if type(params) in (tuple, list) else [params]\n",
    "    maxDate = data[\"Datum\"].max()\n",
    "    fig, axs = plt.subplots(5, 2, figsize=(20, 20), constrained_layout=True)\n",
    "    fig.suptitle(\n",
    "        f'{title} bis {maxDate.strftime(\"%#d. %b %Y\")}',\n",
    "        fontweight=\"bold\", fontsize=\"xx-large\")\n",
    "    i = 0\n",
    "\n",
    "    for bl in data[\"Name\"].unique():\n",
    "        data_bl = data.loc[data[\"Name\"] == bl]\n",
    "        axis = axs[int(i / 2), i % 2]\n",
    "        axis.xaxis.set_major_locator(mdates.MonthLocator())\n",
    "        axis.xaxis.set_minor_locator(\n",
    "            mdates.WeekdayLocator(byweekday=mdates.MO))\n",
    "        axis.set_title(bl,\n",
    "                       fontweight=\"bold\" if bl == \"Österreich\" else \"normal\")\n",
    "        j = 0\n",
    "        secondAxis = axis.twinx() if len(params) > 1 else None\n",
    "        for param in params:\n",
    "            currentAxis = axis if j == 0 else secondAxis\n",
    "            res = STL(data_bl.loc[:, param], period=7).fit()\n",
    "            if j == 0:\n",
    "                currentAxis.plot(res.observed)\n",
    "                currentAxis.plot(res.trend)\n",
    "            else:\n",
    "                currentAxis.plot(res.trend, color=\"gray\", linewidth=1)\n",
    "            j = j + 1\n",
    "        axis.xaxis.set_major_formatter(mdates.DateFormatter('%b %y'))\n",
    "        axis.grid(True, which=\"minor\", axis=\"x\")\n",
    "        axis.grid(True, which=\"major\", axis=\"y\")\n",
    "        i = i + 1\n",
    "        if bl == \"Österreich\":\n",
    "            for a in ['top', 'bottom', 'left', 'right']:\n",
    "                axis.spines[a].set_linewidth(2)\n",
    "            #plt.rc(\"figure\", figsize=(16, 8))\n",
    "            #res.plot()\n",
    "    plt.show()\n",
    "    fig.savefig(f'{param}_{dt.datetime.now(dt.timezone.utc).strftime(\"%Y%m%d%H%M%S\")}.png', facecolor=\"white\", dpi=300)\n"
   ]
  },
  {
   "cell_type": "code",
   "execution_count": null,
   "metadata": {},
   "outputs": [],
   "source": [
    "\n",
    "requests.packages.urllib3.disable_warnings()\n",
    "requests.packages.urllib3.util.ssl_.DEFAULT_CIPHERS += 'HIGH:!DH:!aNULL'\n",
    "\n",
    "req = requests.get(\n",
    "    \"https://info.gesundheitsministerium.gv.at/data/timeline-faelle-bundeslaender.csv\", verify=False)\n",
    "with open(\"timeline-faelle-bundeslaender.csv\", \"wb\") as f:\n",
    "    f.write(req.content)\n",
    "\n",
    "data = pd.read_table(\n",
    "    io.StringIO(req.content.decode(\"utf-8-sig\")),\n",
    "    sep=\";\", header=0, parse_dates=[0])\n",
    "\n",
    "data[\"TestungenPCRTaeglich\"] = data[\"TestungenPCR\"].diff(periods=10)\n",
    "data[\"HospitalisierungTaeglich\"] = data[\"Hospitalisierung\"].diff(periods=10)\n",
    "data[\"Neuinfektionen\"] = data[\"BestaetigteFaelleBundeslaender\"].diff(periods=10)\n",
    "for bl in data[\"Name\"].unique():\n",
    "    for param in [\"TestungenPCRTaeglich\", \"HospitalisierungTaeglich\", \"Hospitalisierung\", \"Neuinfektionen\"]:\n",
    "        mean = data.loc[data[\"Name\"] == bl, param].mean()\n",
    "        stdev = data.loc[data[\"Name\"] == bl, param].std()\n",
    "        minVal = 0 if (param == \"TestungenPCRTaeglich\" or param == \"Neuinfektionen\") else mean - 5 * stdev\n",
    "        maxVal = mean + 5 * stdev\n",
    "        data.loc[(data[\"Name\"] == bl) & ((data[param] < minVal) | (data[param] > maxVal)), param] = np.nan\n",
    "        data.loc[data[\"Name\"] == bl, param] = data.loc[data[\"Name\"] == bl, param].fillna(method=\"bfill\")\n",
    "        data.loc[data[\"Name\"] == bl, param] = data.loc[data[\"Name\"] == bl, param].fillna(method=\"ffill\")\n",
    "data.to_csv(\"timeline-faelle-bundeslaender.csv\", encoding='utf-8', index=False)\n"
   ]
  },
  {
   "cell_type": "code",
   "execution_count": null,
   "metadata": {},
   "outputs": [],
   "source": [
    "data = pd.read_csv(\"timeline-faelle-bundeslaender.csv\", encoding='utf-8', parse_dates=[0])\n",
    "data.set_index(\"Datum\", drop=False, inplace=True)\n",
    "plot_param([\"Hospitalisierung\", \"Neuinfektionen\"], \"Hospitalisierung und Neuinfektionen (grau)\", data)\n",
    "# plot_param(\"TestungenPCRTaeglich\", \"Tägliche PCR Tests\", data)"
   ]
  }
 ],
 "metadata": {
  "interpreter": {
   "hash": "ca585555a2867b459a38eaf8b2b47956aef7a6f770e52f1f5dfa1f8f05e57688"
  },
  "kernelspec": {
   "display_name": "Python 3.10.0 64-bit",
   "language": "python",
   "name": "python3"
  },
  "language_info": {
   "codemirror_mode": {
    "name": "ipython",
    "version": 3
   },
   "file_extension": ".py",
   "mimetype": "text/x-python",
   "name": "python",
   "nbconvert_exporter": "python",
   "pygments_lexer": "ipython3",
   "version": "3.10.1"
  },
  "orig_nbformat": 4
 },
 "nbformat": 4,
 "nbformat_minor": 2
}
